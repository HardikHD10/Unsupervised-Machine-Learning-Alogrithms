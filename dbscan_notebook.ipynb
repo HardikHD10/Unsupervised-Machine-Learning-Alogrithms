{
 "cells": [
  {
   "cell_type": "code",
   "execution_count": null,
   "id": "c8870a7b",
   "metadata": {},
   "outputs": [],
   "source": [
    "\n",
    "# Generalized Code for DBSCAN Clustering\n",
    "\n",
    "# 1. Importing Libraries\n",
    "import numpy as np\n",
    "import pandas as pd\n",
    "import matplotlib.pyplot as plt\n",
    "from sklearn.cluster import DBSCAN\n",
    "from sklearn.datasets import make_moons\n",
    "\n",
    "# 2. Generating Sample Data (This is a placeholder, replace with your dataset loading function)\n",
    "def generate_data(n_samples=300, noise=0.05, random_state=42):\n",
    "    data, _ = make_moons(n_samples=n_samples, noise=noise, random_state=random_state)\n",
    "    return pd.DataFrame(data)\n",
    "\n",
    "# 3. DBSCAN Clustering Function\n",
    "def perform_dbscan_clustering(data, eps=0.3, min_samples=5):\n",
    "    dbscan = DBSCAN(eps=eps, min_samples=min_samples)\n",
    "    labels = dbscan.fit_predict(data)\n",
    "    return labels\n",
    "\n",
    "# 4. Visualization Function\n",
    "def visualize_clusters(data, labels):\n",
    "    plt.scatter(data.iloc[:, 0], data.iloc[:, 1], c=labels, cmap='rainbow')\n",
    "    plt.title(\"DBSCAN Clustering\")\n",
    "    plt.show()\n",
    "\n",
    "# 5. Main Execution\n",
    "if __name__ == \"__main__\":\n",
    "    data = generate_data()\n",
    "    labels = perform_dbscan_clustering(data)\n",
    "    visualize_clusters(data, labels)\n"
   ]
  }
 ],
 "metadata": {},
 "nbformat": 4,
 "nbformat_minor": 5
}
