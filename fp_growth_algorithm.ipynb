{
 "cells": [
  {
   "cell_type": "code",
   "execution_count": 1,
   "id": "e96bc197",
   "metadata": {},
   "outputs": [],
   "source": [
    "transactions = [\n",
    "    ['Milk','Bread','Saffron'],\n",
    "    ['Milk','Saffron'],\n",
    "    ['Bread','Saffron','Wafer'],\n",
    "    ['Bread','Wafer'],\n",
    "]"
   ]
  },
  {
   "cell_type": "code",
   "execution_count": 2,
   "id": "46bd4b12",
   "metadata": {},
   "outputs": [
    {
     "name": "stdout",
     "output_type": "stream",
     "text": [
      "Collecting pyfpgrowth\n",
      "  Downloading pyfpgrowth-1.0.tar.gz (1.6 MB)\n",
      "\u001b[K     |████████████████████████████████| 1.6 MB 1.1 MB/s eta 0:00:01\n",
      "\u001b[?25hBuilding wheels for collected packages: pyfpgrowth\n",
      "  Building wheel for pyfpgrowth (setup.py) ... \u001b[?25ldone\n",
      "\u001b[?25h  Created wheel for pyfpgrowth: filename=pyfpgrowth-1.0-py2.py3-none-any.whl size=5504 sha256=d83070e611a8fc8e7ca920d6314f9608de4c023f0dcd9360bab3dcb579bf8e5d\n",
      "  Stored in directory: /Users/hardik/Library/Caches/pip/wheels/1d/15/f3/26c63bd6040ea8f62d59dba0b4fe4dffe551a0f93879734a91\n",
      "Successfully built pyfpgrowth\n",
      "Installing collected packages: pyfpgrowth\n",
      "Successfully installed pyfpgrowth-1.0\n",
      "Note: you may need to restart the kernel to use updated packages.\n"
     ]
    }
   ],
   "source": [
    "pip install pyfpgrowth"
   ]
  },
  {
   "cell_type": "code",
   "execution_count": 2,
   "id": "a56604fb",
   "metadata": {},
   "outputs": [],
   "source": [
    "import pyfpgrowth"
   ]
  },
  {
   "cell_type": "code",
   "execution_count": 3,
   "id": "5140caf6",
   "metadata": {},
   "outputs": [
    {
     "data": {
      "text/plain": [
       "{('Milk',): 2,\n",
       " ('Milk', 'Saffron'): 2,\n",
       " ('Bread', 'Milk'): 1,\n",
       " ('Bread', 'Milk', 'Saffron'): 1,\n",
       " ('Wafer',): 2,\n",
       " ('Saffron', 'Wafer'): 1,\n",
       " ('Bread', 'Wafer'): 2,\n",
       " ('Bread', 'Saffron', 'Wafer'): 1,\n",
       " ('Bread',): 3,\n",
       " ('Saffron',): 3,\n",
       " ('Bread', 'Saffron'): 2}"
      ]
     },
     "execution_count": 3,
     "metadata": {},
     "output_type": "execute_result"
    }
   ],
   "source": [
    "items = pyfpgrowth.find_frequent_patterns(transactions,0.5)\n",
    "items"
   ]
  },
  {
   "cell_type": "code",
   "execution_count": 5,
   "id": "270c6f2c",
   "metadata": {},
   "outputs": [
    {
     "data": {
      "text/plain": [
       "{('Milk',): (('Saffron',), 1.0),\n",
       " ('Bread', 'Milk'): (('Saffron',), 1.0),\n",
       " ('Wafer',): (('Bread',), 1.0),\n",
       " ('Saffron', 'Wafer'): (('Bread',), 1.0)}"
      ]
     },
     "execution_count": 5,
     "metadata": {},
     "output_type": "execute_result"
    }
   ],
   "source": [
    "rules = pyfpgrowth.generate_association_rules(items,0.7)\n",
    "rules"
   ]
  },
  {
   "cell_type": "code",
   "execution_count": null,
   "id": "f2fd8af6",
   "metadata": {},
   "outputs": [],
   "source": []
  }
 ],
 "metadata": {
  "kernelspec": {
   "display_name": "Python 3 (ipykernel)",
   "language": "python",
   "name": "python3"
  },
  "language_info": {
   "codemirror_mode": {
    "name": "ipython",
    "version": 3
   },
   "file_extension": ".py",
   "mimetype": "text/x-python",
   "name": "python",
   "nbconvert_exporter": "python",
   "pygments_lexer": "ipython3",
   "version": "3.9.12"
  }
 },
 "nbformat": 4,
 "nbformat_minor": 5
}
